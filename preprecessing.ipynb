{
 "cells": [
  {
   "cell_type": "code",
   "execution_count": 65,
   "metadata": {},
   "outputs": [],
   "source": [
    "import cudf as pd_cf\n",
    "from cudf.utils.dtypes import datetime\n",
    "import matplotlib.pyplot as plt\n",
    "import os"
   ]
  },
  {
   "cell_type": "code",
   "execution_count": 66,
   "metadata": {},
   "outputs": [],
   "source": [
    "data_ans = pd_cf.read_csv(\"data/answer_metadata.csv\")\n",
    "#AnswerId             DateAnswered Confidence  GroupId  QuizId SchemeOfWorkId [1508917 rows x 6 columns]\n",
    "data_ans = data_ans[['AnswerId','DateAnswered']]\n",
    "#AnswerId             DateAnswered  [1508917 rows x 2 columns]\n",
    "\n",
    "\n",
    "data_ques = pd_cf.read_csv(\"data/question_metadata.csv\")\n",
    "#QuestionId         SubjectId   [948 rows x 2 columns]\n",
    "\n",
    "\n",
    "data_stu = pd_cf.read_csv(\"data/student_metadata.csv\")\n",
    "#UserId  Gender              DateOfBirth PremiumPupil   [6148 rows x 4 columns]\n",
    "data_stu = data_stu[['UserId','Gender','DateOfBirth']]\n",
    "#UserId  Gender              DateOfBirth    [6148 rows x 3 columns]\n",
    "\n",
    "\n",
    "\n",
    "data_relation = pd_cf.read_csv(\"data/train_task_4.csv\")\n",
    "#QuestionId  UserId  AnswerId  IsCorrect  CorrectAnswer  AnswerValue    [1307347 rows x 6 columns]"
   ]
  },
  {
   "cell_type": "code",
   "execution_count": 67,
   "metadata": {},
   "outputs": [],
   "source": [
    "def age_extraction(data):\n",
    "    age_sum = 0\n",
    "    now = datetime.datetime.now()\n",
    "    age_list = []\n",
    "    data = data.to_pandas()\n",
    "    for x in data['DateOfBirth']:\n",
    "        if x !=  None:\n",
    "            x.strip()\n",
    "            x.strip(\"\\n\")\n",
    "            year, month = int(x.split('-')[0]), int(x.split('-')[1])\n",
    "            age =  (now.year-year)- (now.month-month)/12.\n",
    "            age_list.append(age)\n",
    "            age_sum += age\n",
    "        else:\n",
    "            age_list.append(x)\n",
    "    data['age'] = age_list\n",
    "    mean_age = age_sum / len(age_list)\n",
    "    data['age'].fillna(value = mean_age,inplace = True)\n",
    "    data['age'] = (data['age'] -  data['age'].min()) / data['age'].max()\n",
    "    return data"
   ]
  },
  {
   "cell_type": "code",
   "execution_count": 68,
   "metadata": {},
   "outputs": [],
   "source": [
    "data_stu = age_extraction(data_stu)"
   ]
  },
  {
   "cell_type": "code",
   "execution_count": 69,
   "metadata": {},
   "outputs": [
    {
     "data": {
      "image/png": "[encoded data removed]",
      "text/plain": [
       "<Figure size 640x480 with 1 Axes>"
      ]
     },
     "metadata": {},
     "output_type": "display_data"
    }
   ],
   "source": [
    "plt.hist(data_stu['age'])\n",
    "plt.plot()\n",
    "plt.show()"
   ]
  },
  {
   "cell_type": "code",
   "execution_count": 70,
   "metadata": {},
   "outputs": [
    {
     "name": "stdout",
     "output_type": "stream",
     "text": [
      "Index(['QuestionId', 'UserId', 'AnswerId', 'IsCorrect', 'CorrectAnswer',\n",
      "       'AnswerValue', 'SubjectId'],\n",
      "      dtype='object')\n"
     ]
    }
   ],
   "source": [
    "data_relation = pd_cf.merge(data_relation,data_ques)\n",
    "print(data_relation.columns)"
   ]
  },
  {
   "cell_type": "code",
   "execution_count": 71,
   "metadata": {},
   "outputs": [
    {
     "name": "stdout",
     "output_type": "stream",
     "text": [
      "         QuestionId  UserId  AnswerId  IsCorrect  CorrectAnswer  AnswerValue  \\\n",
      "0               472    4298    568974          0              4            2   \n",
      "1               868     282   1410897          1              3            3   \n",
      "2               931     463    712822          0              4            3   \n",
      "3               335    2301   1396763          1              4            4   \n",
      "4               766    3371    538485          0              2            1   \n",
      "...             ...     ...       ...        ...            ...          ...   \n",
      "1307342         116     521   1032464          1              2            2   \n",
      "1307343         395    4012    878670          1              1            1   \n",
      "1307344         642    3460    821975          0              2            3   \n",
      "1307345         867    4387    979477          1              1            1   \n",
      "1307346         862     673    150538          0              2            4   \n",
      "\n",
      "                 SubjectId  Gender              DateOfBirth       age  \n",
      "0        [3, 32, 144, 204]       0                     <NA>  0.179481  \n",
      "1         [3, 49, 67, 156]       0                     <NA>  0.179481  \n",
      "2         [3, 71, 88, 174]       0                     <NA>  0.179481  \n",
      "3         [3, 49, 62, 251]       1  2008-07-01 00:00:00.000  0.309417  \n",
      "4         [3, 71, 74, 439]       2  2008-04-01 00:00:00.000  0.304933  \n",
      "...                    ...     ...                      ...       ...  \n",
      "1307342   [3, 71, 74, 182]       0                     <NA>  0.179481  \n",
      "1307343   [3, 32, 37, 221]       1  2008-02-01 00:00:00.000  0.301943  \n",
      "1307344   [3, 49, 62, 251]       1  2007-10-01 00:00:00.000  0.331839  \n",
      "1307345   [3, 32, 42, 211]       0                     <NA>  0.179481  \n",
      "1307346   [3, 49, 62, 251]       1  2008-08-01 00:00:00.000  0.310912  \n",
      "\n",
      "[1307347 rows x 10 columns]\n"
     ]
    }
   ],
   "source": [
    "data_stu =pd_cf.from_pandas(data_stu)\n",
    "data_re = pd_cf.merge(data_relation,data_stu,on='UserId', how='left')\n",
    "print(data_re)"
   ]
  },
  {
   "cell_type": "code",
   "execution_count": 74,
   "metadata": {},
   "outputs": [],
   "source": [
    "data_stu.to_csv(\"./train_data/data_stu.csv\")\n",
    "data_relation.to_csv(\"./train_data/data_train.csv\")"
   ]
  }
 ],
 "metadata": {
  "kernelspec": {
   "display_name": "Python 3.7.13 ('pytorch')",
   "language": "python",
   "name": "python3"
  },
  "language_info": {
   "codemirror_mode": {
    "name": "ipython",
    "version": 3
   },
   "file_extension": ".py",
   "mimetype": "text/x-python",
   "name": "python",
   "nbconvert_exporter": "python",
   "pygments_lexer": "ipython3",
   "version": "3.7.13"
  },
  "orig_nbformat": 4,
  "vscode": {
   "interpreter": {
    "hash": "6d2863090d6fcbe706e42117d074356e85084a9ce14344d432628422da7743ec"
   }
  }
 },
 "nbformat": 4,
 "nbformat_minor": 2
}
